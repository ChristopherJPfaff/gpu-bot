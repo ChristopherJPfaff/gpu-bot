{
 "cells": [
  {
   "cell_type": "code",
   "execution_count": 1,
   "id": "f203ffbe-9ba3-4c84-9b8c-93e36cfadf55",
   "metadata": {},
   "outputs": [],
   "source": [
    "from selenium import webdriver\n",
    "from selenium.common.exceptions import NoSuchElementException\n",
    "from selenium.webdriver.chrome.service import Service\n",
    "from webdriver_manager.chrome import ChromeDriverManager\n",
    "import chromedriver_binary\n",
    "import logging\n",
    "import random\n",
    "import time\n"
   ]
  },
  {
   "cell_type": "code",
   "execution_count": 2,
   "id": "52cb79bc-9b3d-4bdc-97a4-2028eeacc534",
   "metadata": {},
   "outputs": [],
   "source": [
    "logging.basicConfig(filename='example.log', encoding='utf-8', level=logging.INFO)\n",
    "chrome_options = webdriver.ChromeOptions()\n",
    "chrome_options.add_argument(\"--incognito\")\n",
    "chrome_service = Service(ChromeDriverManager().install())\n",
    "random_wait_time = random.uniform(2, 5)\n",
    "driver = webdriver.Chrome(service=chrome_service, options=chrome_options)\n",
    "#driver.implicitly_wait(2)"
   ]
  },
  {
   "cell_type": "code",
   "execution_count": 3,
   "id": "4f368fb1-0319-4c96-8f2e-317b5f7fe715",
   "metadata": {},
   "outputs": [],
   "source": [
    "#gcard_url='https://www.newegg.com/asus-geforce-rtx-4090-tuf-rtx4090-24g-gaming/p/N82E16814126596?Item=N82E16814126596&Description=rtx4090&cm_re=rtx4090-_-14-126-596-_-Product'\n",
    "#ssd_url = 'https://www.newegg.com/samsung-1tb-980-pro/p/N82E16820147790?Description=m.2&cm_re=m.2-_-20-147-790-_-Product'\n",
    "battery_url = 'https://www.newegg.com/p/0SC-0007-017Y0?Item=9SIA4SACYW6412&Description=plastic&cm_re=plastic-_-9SIA4SACYW6412-_-Product&quicklink=true'"
   ]
  },
  {
   "cell_type": "code",
   "execution_count": null,
   "id": "688dc663-7da5-49da-93c5-895f49af2828",
   "metadata": {},
   "outputs": [],
   "source": []
  },
  {
   "cell_type": "code",
   "execution_count": 8,
   "id": "152c769e-0933-46db-a7ef-f29f90439484",
   "metadata": {},
   "outputs": [],
   "source": [
    "driver.get(battery_url)"
   ]
  },
  {
   "cell_type": "code",
   "execution_count": 5,
   "id": "9cb7e1a0-cda1-4931-a0fe-187fd0663284",
   "metadata": {},
   "outputs": [],
   "source": [
    "def generate_log_msg(element_name, err_cls, err_msg):\n",
    "    msg = '{}: {}, error msg: {}'\n",
    "    msg = msg.format(element_name, err_cls, err_msg)\n",
    "    return msg"
   ]
  },
  {
   "cell_type": "code",
   "execution_count": null,
   "id": "5fad948c-895a-4fd6-8e41-3ed836e8328d",
   "metadata": {},
   "outputs": [],
   "source": [
    "generate_log_msg('bob', 'joe', 'mike')"
   ]
  },
  {
   "cell_type": "code",
   "execution_count": 18,
   "id": "f3a56ee8-971d-4368-b7b8-191d1a9a126b",
   "metadata": {},
   "outputs": [],
   "source": [
    "def sign_up_for_offers_bottom_banner():\n",
    "    '''\n",
    "    This might not be needed\n",
    "    '''\n",
    "    sign_up_for_offers_close_button_path = '//*[@id=\"closeIconSvg\"]'\n",
    "    # element_path = '//*[@id=\"closeIconSvg\"]' # tested and failed \n",
    "    #element_path = '//*[@id=\"closeIconContainer\"]' # tested and failed \n",
    "    #element_path = '//*[@id=\"closeIconSvg\"]' # tested and failed\n",
    "    #element_path = '//*[@id=\"closeIconSvg\"]/line[1]'  # tested and failed\n",
    "    #element_path = '//*[@id=\"closeIconSvg\"]/line[2]' # tested and failed\n",
    "    element_path = '/html/body/div[2]/div/main/div/button/svg'\n",
    "    //*[@id=\"closeIconContainer\"]\n",
    "    \n",
    "    //*[@id=\"closeIconSvg\"]/line[1]\n",
    "    \n",
    "    element_name = 'sign_up_for_offers_close_button'\n",
    "    try:\n",
    "        sign_up_for_offers_close_button = driver.find_element(\"xpath\", element_path)\n",
    "    except NoSuchElementException as e:\n",
    "        logging.info(generate_log_msg('find_element: ' + element_name, e.__class__, str(e)))\n",
    "        return\n",
    "    except Exception as e:\n",
    "        logging.warning(generate_log_msg('find_element: ' + element_name, e.__class__, str(e)))\n",
    "        return\n",
    "\n",
    "    try:\n",
    "        sign_up_for_offers_close_button.click()\n",
    "    except Exception as e:\n",
    "        logging.warning(generate_log_msg('click_button: ' + element_name, e.__class__, str(e)))"
   ]
  },
  {
   "cell_type": "code",
   "execution_count": null,
   "id": "33f97349-b4a1-452b-a7ed-1ce02890bb9d",
   "metadata": {},
   "outputs": [],
   "source": []
  },
  {
   "cell_type": "code",
   "execution_count": 19,
   "id": "0aa7c7b1-908f-468c-880b-5a3edec135dc",
   "metadata": {},
   "outputs": [],
   "source": []
  },
  {
   "cell_type": "code",
   "execution_count": null,
   "id": "e27a2558-978f-4537-a690-a149e3d7f9c2",
   "metadata": {},
   "outputs": [],
   "source": [
    "def add_item_to_cart():\n",
    "    add_to_cart_button_path = '//*[@id=\"ProductBuy\"]/div[1]/div[2]/button/i'\n",
    "\n",
    "    try:\n",
    "        add_to_cart_button_button = driver.find_element(\"xpath\", add_to_cart_button_path) \n",
    "    except NoSuchElementException:\n",
    "        print('Out of Stock')\n",
    "        \n",
    "    try:\n",
    "        add_to_cart_button_button.click()\n",
    "    except Exception as e:\n",
    "        return e"
   ]
  },
  {
   "cell_type": "code",
   "execution_count": null,
   "id": "89b25d34-9f86-4871-a66c-f9f08534a03e",
   "metadata": {},
   "outputs": [],
   "source": [
    "add_item_to_cart()"
   ]
  },
  {
   "cell_type": "code",
   "execution_count": null,
   "id": "5b1ba8a3-1155-4db7-a8ef-ba2ffa0a240c",
   "metadata": {},
   "outputs": [],
   "source": [
    "def no_protection_button_check():\n",
    "    ''' there is not always protection for a device'''\n",
    "    try:\n",
    "        no_protection_button_path = '//*[@id=\"modal-intermediary\"]/div/div/div/div[3]/button[1]'\n",
    "        no_protection_button = driver.find_element(\"xpath\", no_protection_button_path)\n",
    "    except NoSuchElementException as e:\n",
    "        return False, e\n",
    "    \n",
    "    return True, no_protecion_button"
   ]
  },
  {
   "cell_type": "code",
   "execution_count": null,
   "id": "e24b7cda-36e8-4979-a1bf-df8ffecca213",
   "metadata": {},
   "outputs": [],
   "source": [
    "def no_protection_button():\n",
    "    result, button = no_protection_button_check()\n",
    "    if result:\n",
    "        button.click()\n",
    "    else:\n",
    "        return"
   ]
  },
  {
   "cell_type": "code",
   "execution_count": null,
   "id": "530c9c3e-75ef-488d-b439-4751e22d2ee8",
   "metadata": {},
   "outputs": [],
   "source": [
    "no_protection_button()"
   ]
  },
  {
   "cell_type": "code",
   "execution_count": null,
   "id": "e508908c-e146-4d38-aa0d-85ee68e3f360",
   "metadata": {},
   "outputs": [],
   "source": []
  },
  {
   "cell_type": "code",
   "execution_count": null,
   "id": "b9fbf953-4032-4636-8fbd-181c2d5469a7",
   "metadata": {},
   "outputs": [],
   "source": []
  },
  {
   "cell_type": "code",
   "execution_count": null,
   "id": "ea5442a5-4aa2-4a32-bbf4-8253eb76d04f",
   "metadata": {},
   "outputs": [],
   "source": [
    "proceed_to_checkout_button_path = '//*[@id=\"modal-intermediary\"]/div/div/div[2]/div[2]/button[2]'\n",
    "try:\n",
    "    proceed_to_checkout_button = driver.find_element(\"xpath\", proceed_to_checkout_button_path)\n",
    "except Exception as e:\n",
    "    print(e)\n",
    "except NoSuchElementException as e:\n",
    "    print(e)"
   ]
  },
  {
   "cell_type": "code",
   "execution_count": null,
   "id": "8f412187-79a7-4285-a33c-ffe2fbd2be45",
   "metadata": {},
   "outputs": [],
   "source": [
    "proceed_to_checkout_button.click()"
   ]
  },
  {
   "cell_type": "code",
   "execution_count": null,
   "id": "feffd713-d5dc-44e1-aa8b-f71fe13d011c",
   "metadata": {},
   "outputs": [],
   "source": [
    "email_address_username_path = '//*[@id=\"labeled-input-signEmail\"]'\n",
    "email_address_username_field = driver.find_element(\"xpath\", email_address_username_path)\n",
    "email_address_username_field.send_keys('splitradius@gmail.com')"
   ]
  },
  {
   "cell_type": "code",
   "execution_count": null,
   "id": "be664ebe-b900-417d-84d3-38fe82943d7a",
   "metadata": {},
   "outputs": [],
   "source": [
    "sign_in_button_path = '//*[@id=\"signInSubmit\"]'\n",
    "sign_in_button = driver.find_element(\"xpath\", sign_in_button_path)\n",
    "sign_in_button.click()"
   ]
  },
  {
   "cell_type": "code",
   "execution_count": null,
   "id": "6224535e-9b5d-438e-b9c8-94716d85f86c",
   "metadata": {},
   "outputs": [],
   "source": [
    "password = 'q3$W[q_F2Q-Yt3ma'\n",
    "sign_in_password_path = '//*[@id=\"labeled-input-password\"]'\n",
    "sign_in_password = driver.find_element(\"xpath\", sign_in_password_path)\n",
    "sign_in_password.send_keys(password)"
   ]
  },
  {
   "cell_type": "code",
   "execution_count": null,
   "id": "bcd5503c-c22e-44f3-879c-ce1e922cc11a",
   "metadata": {},
   "outputs": [],
   "source": [
    "sign_in_again_button_path = '//*[@id=\"signInSubmit\"]'\n",
    "sign_in_again_button = driver.find_element(\"xpath\", sign_in_again_button_path)\n",
    "sign_in_again_button.click()"
   ]
  },
  {
   "cell_type": "code",
   "execution_count": null,
   "id": "18db34b0-5329-46bb-89e8-70741c8248c2",
   "metadata": {},
   "outputs": [],
   "source": [
    "continue_to_delivery_button_path = '//*[@id=\"shippingItemCell\"]/div/div[3]/button'\n",
    "continue_to_delivery_button = driver.find_element(\"xpath\", continue_to_delivery_button_path)\n",
    "continue_to_delivery_button.click()"
   ]
  },
  {
   "cell_type": "code",
   "execution_count": null,
   "id": "8848b7cc-0fb4-4580-8019-36c5879ef729",
   "metadata": {},
   "outputs": [],
   "source": []
  },
  {
   "cell_type": "code",
   "execution_count": null,
   "id": "cb7bfea6-4cda-4da5-864b-1ca5085fdf5a",
   "metadata": {},
   "outputs": [],
   "source": []
  },
  {
   "cell_type": "code",
   "execution_count": null,
   "id": "dc377daf-737c-442c-bf9f-fa4c6cef95c9",
   "metadata": {},
   "outputs": [],
   "source": [
    "try:\n",
    "    sign_up_for_offers_close_button = driver.find_element(\"xpath\", sign_up_for_offers_close_button_path)\n",
    "except Exception as e:\n",
    "    print(e)"
   ]
  },
  {
   "cell_type": "code",
   "execution_count": null,
   "id": "2a6a1697-1dbd-4888-94c9-28b72139f0ba",
   "metadata": {},
   "outputs": [],
   "source": [
    "wd.get(url)"
   ]
  },
  {
   "cell_type": "code",
   "execution_count": null,
   "id": "ef7428fc-0877-4643-97d9-4b808d6fb9d9",
   "metadata": {},
   "outputs": [],
   "source": [
    "blah = list(dir(wd))"
   ]
  },
  {
   "cell_type": "code",
   "execution_count": null,
   "id": "91814054-3928-41db-a7b4-3e50f76683c1",
   "metadata": {},
   "outputs": [],
   "source": [
    "for each in blah:\n",
    "    if 'path' in each:\n",
    "        print(each)"
   ]
  },
  {
   "cell_type": "code",
   "execution_count": null,
   "id": "e30e06ad-f5fd-41c3-85e5-e56bbaebaf6c",
   "metadata": {},
   "outputs": [],
   "source": [
    "driver.close()"
   ]
  },
  {
   "cell_type": "code",
   "execution_count": 20,
   "id": "34c04de4-1ba9-435f-8f8a-e6df172117ce",
   "metadata": {},
   "outputs": [
    {
     "data": {
      "text/plain": [
       "'\\nRetype Card Number\\n\\nFor your security, help us verify by entering your card info. It won\\'t take long. We just want to protect and secure your account.\\n\\n//*[@id=\"app\"]/div/div[2]/div[2]/div[1]/input\\n'"
      ]
     },
     "execution_count": 20,
     "metadata": {},
     "output_type": "execute_result"
    }
   ],
   "source": [
    "'''\n",
    "Retype Card Number\n",
    "\n",
    "For your security, help us verify by entering your card info. It won't take long. We just want to protect and secure your account.\n",
    "\n",
    "//*[@id=\"app\"]/div/div[2]/div[2]/div[1]/input\n",
    "\n",
    "save button\n",
    "//*[@id=\"app\"]/div/div[3]/button[2]\n",
    "\n",
    "'''"
   ]
  },
  {
   "cell_type": "code",
   "execution_count": null,
   "id": "12945b42-a006-4c61-8ebd-626e0ead48be",
   "metadata": {},
   "outputs": [],
   "source": []
  }
 ],
 "metadata": {
  "kernelspec": {
   "display_name": "Python 3 (ipykernel)",
   "language": "python",
   "name": "python3"
  },
  "language_info": {
   "codemirror_mode": {
    "name": "ipython",
    "version": 3
   },
   "file_extension": ".py",
   "mimetype": "text/x-python",
   "name": "python",
   "nbconvert_exporter": "python",
   "pygments_lexer": "ipython3",
   "version": "3.10.9"
  }
 },
 "nbformat": 4,
 "nbformat_minor": 5
}
